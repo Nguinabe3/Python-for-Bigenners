{
 "cells": [
  {
   "cell_type": "markdown",
   "metadata": {},
   "source": [
    "# Welcome to Python for Beginners Training\n",
    "\n",
    "## Introduction\n",
    "\n",
    "For those who are new to python programming, you are in a good place as this nootbook file contains the basics to get started with python programming. This course is inspired by the SoloLearn mobile application. You will find many practical exercises for a good understanding. Thank you and please give me some feedback to help me improve as we are all here to learn.\n",
    "\n",
    "In this courses we will learn and practice basic python programming language. We will tackle the following notion :\n",
    "\n",
    " 1-Operators\n",
    " \n",
    " 2-Datatypes\n",
    " \n",
    " 3-Variables\n",
    " \n",
    " 4-the If statement \n",
    " \n",
    " 5-Data Structures \n",
    " \n",
    " 6-Loops\n",
    " \n",
    " 7-Functions."
   ]
  },
  {
   "cell_type": "markdown",
   "metadata": {},
   "source": [
    "# Operators\n",
    "\n",
    "Try the following code and see the results"
   ]
  },
  {
   "cell_type": "code",
   "execution_count": 1,
   "metadata": {},
   "outputs": [
    {
     "name": "stdout",
     "output_type": "stream",
     "text": [
      "4\n",
      "6\n",
      "5.0\n"
     ]
    }
   ],
   "source": [
    "print(2+2)\n",
    "print(5+4-3)\n",
    "print(10/2)"
   ]
  },
  {
   "cell_type": "markdown",
   "metadata": {},
   "source": [
    "We can notice that / does the whole division and displays the result as a float\n",
    "\n",
    "### Project\n",
    "\n",
    "Ever wondered how many seconds are there in a month(30 days). Write a program to calculate and output the answer"
   ]
  },
  {
   "cell_type": "code",
   "execution_count": 2,
   "metadata": {},
   "outputs": [
    {
     "name": "stdout",
     "output_type": "stream",
     "text": [
      "2592000\n"
     ]
    }
   ],
   "source": [
    "print(30*24*60*60)"
   ]
  },
  {
   "cell_type": "markdown",
   "metadata": {},
   "source": [
    "Data type text is called a string, Whole numbers are called integers. And numbers with a decimal point are called floats.\n",
    "\n",
    "The Exponentiation (Exposant in french) is represented with $\\textbf{**}$ in python.\n",
    "\n",
    "Run the code bellow and see the result :"
   ]
  },
  {
   "cell_type": "code",
   "execution_count": 5,
   "metadata": {},
   "outputs": [
    {
     "name": "stdout",
     "output_type": "stream",
     "text": [
      "32\n",
      "3.0\n",
      "2.0\n",
      "3.0\n"
     ]
    }
   ],
   "source": [
    "print(2**5)\n",
    "print(9**(1/2))\n",
    "print(8**(1/3))\n",
    "print(9**0.5)"
   ]
  },
  {
   "cell_type": "markdown",
   "metadata": {},
   "source": [
    "## Data Type\n",
    "To know the type of data, we use the function $\\textbf{type()}$ as follow:"
   ]
  },
  {
   "cell_type": "code",
   "execution_count": 7,
   "metadata": {},
   "outputs": [
    {
     "name": "stdout",
     "output_type": "stream",
     "text": [
      "<class 'float'>\n",
      "<class 'int'>\n"
     ]
    }
   ],
   "source": [
    "print(type(9**(1/2)))\n",
    "print(type(2**5))"
   ]
  },
  {
   "cell_type": "markdown",
   "metadata": {},
   "source": [
    "We can see that the output of the first code is float which represent the type of our current data. As well for the second code which is integer."
   ]
  },
  {
   "cell_type": "markdown",
   "metadata": {},
   "source": [
    "## Quotient \n",
    "\n",
    "The symbole $\\textbf{ // }$ Display only the whole part.\n",
    "\n",
    "The symbole $\\textbf{ % }$ Display only the remainder of the whole division.\n",
    "\n",
    "Try the following code and see the results:"
   ]
  },
  {
   "cell_type": "code",
   "execution_count": 11,
   "metadata": {},
   "outputs": [
    {
     "name": "stdout",
     "output_type": "stream",
     "text": [
      "3\n",
      "2\n",
      "2\n",
      "0.25\n",
      "1\n",
      "4\n",
      "4\n"
     ]
    }
   ],
   "source": [
    "print(20//6)\n",
    "print(10//4)\n",
    "\n",
    "#Remainder\n",
    "\n",
    "print(20 % 6)\n",
    "print(1.25 % 0.5)\n",
    "\n",
    "print(7 % (5//2))\n",
    "\n",
    "print((3**2)//2)\n",
    "print(9//2)"
   ]
  },
  {
   "cell_type": "markdown",
   "metadata": {},
   "source": [
    "## String\n",
    "\n",
    "There are two ways to represent strings in Python, either as $\\textbf{\" \"}$ or as $\\textbf{' '}$. In the case where you want to introduce\n",
    "\n",
    "aphostrophes in the sentence it is advisable to use $\\textbf{\" \"}$ because the aphostrophe is introduced by one of the $\\textbf{' '}$.\n",
    "\n",
    "$\\textbf{\\n}$ means to return to the line\n",
    "\n",
    "$\\textbf{\"\"\"  \"\"\"}$ is multiple line\n",
    " \n",
    "### Operation on String\n",
    "\n",
    "#### Concatenate\n",
    "\n",
    "Concatenation of string is done in python using the $\\textbf{+}$ operator as showing in the code bellow."
   ]
  },
  {
   "cell_type": "code",
   "execution_count": 12,
   "metadata": {},
   "outputs": [
    {
     "name": "stdout",
     "output_type": "stream",
     "text": [
      "Spameggs\n",
      "22\n",
      "SpamSpamSpam\n",
      "2222\n"
     ]
    }
   ],
   "source": [
    "print(\"Spam\" + 'eggs')\n",
    "print(\"2\" + '2')\n",
    "print(\"Spam\" * 3)\n",
    "print(4 * '2')"
   ]
  },
  {
   "cell_type": "markdown",
   "metadata": {},
   "source": [
    "We can also see that the $\\textbf{*}$ operator multiplies a given string by the number of times it is indicated. Here, $\\textbf{\"2\"}$ is considered as string because it is between the claws."
   ]
  },
  {
   "cell_type": "markdown",
   "metadata": {},
   "source": [
    "## Variables\n",
    "\n",
    "A Python variable is a reserved memory location to store values. It can be anything we use to store our data.\n",
    "\n",
    "In the following code, we assign the string James to the variable user, the integer 7 to the variable x."
   ]
  },
  {
   "cell_type": "code",
   "execution_count": 13,
   "metadata": {},
   "outputs": [],
   "source": [
    "user = \"James\" \n",
    "x=7"
   ]
  },
  {
   "cell_type": "code",
   "execution_count": 17,
   "metadata": {},
   "outputs": [
    {
     "name": "stdout",
     "output_type": "stream",
     "text": [
      "James\n",
      "10\n",
      "James is 7\n"
     ]
    }
   ],
   "source": [
    "print(user)\n",
    "print(x+3)\n",
    "print(user , \"is\" ,x)"
   ]
  },
  {
   "cell_type": "markdown",
   "metadata": {},
   "source": [
    "#### What is input () function in Python?\n",
    "In Python, we use input() function to take input from the user. Whatever you enter as input, the input function converts it into a string. If you enter an integer value still input() function convert it into a string. \n",
    "\n",
    "The following code is a simple program that retrieves a string of characters entered by a user and displays bingo if the letter j exists among the string of characters entered otherwise it will display sorry."
   ]
  },
  {
   "cell_type": "code",
   "execution_count": 19,
   "metadata": {},
   "outputs": [
    {
     "name": "stdout",
     "output_type": "stream",
     "text": [
      "josue\n",
      "bingo\n",
      "sory\n",
      "sory\n",
      "sory\n",
      "sory\n",
      "josue\n"
     ]
    }
   ],
   "source": [
    "x=input()\n",
    "for c in x:\n",
    "    if c==\"j\":\n",
    "        print(\"bingo\")\n",
    "    else:\n",
    "        print(\"sory\")\n",
    "print(x)"
   ]
  },
  {
   "cell_type": "markdown",
   "metadata": {},
   "source": [
    "The following code takes a name and displays hello followed by the name entered by the user"
   ]
  },
  {
   "cell_type": "code",
   "execution_count": 24,
   "metadata": {},
   "outputs": [
    {
     "name": "stdout",
     "output_type": "stream",
     "text": [
      "Enter your name: josue\n",
      "Hello,josue\n"
     ]
    }
   ],
   "source": [
    "name = input(\"Enter your name: \")\n",
    "print(\"Hello,\" + name)"
   ]
  },
  {
   "cell_type": "markdown",
   "metadata": {},
   "source": [
    "Here we want to force the age variable to be entered as an integer. For this we use transtyping. The function int() will convert the content of the variable age into an integer"
   ]
  },
  {
   "cell_type": "code",
   "execution_count": 21,
   "metadata": {},
   "outputs": [
    {
     "name": "stdout",
     "output_type": "stream",
     "text": [
      "12\n",
      "12\n"
     ]
    }
   ],
   "source": [
    "age=int(input())\n",
    "print(age)"
   ]
  },
  {
   "cell_type": "code",
   "execution_count": 22,
   "metadata": {},
   "outputs": [
    {
     "name": "stdout",
     "output_type": "stream",
     "text": [
      "His age is 42\n"
     ]
    }
   ],
   "source": [
    "age=42\n",
    "print(\"His age is\", str(age))"
   ]
  },
  {
   "cell_type": "markdown",
   "metadata": {},
   "source": [
    "The str() function automatically converts the content of a variable to a string. Here, 42 is seen as a string but not numeric."
   ]
  },
  {
   "cell_type": "code",
   "execution_count": 24,
   "metadata": {},
   "outputs": [
    {
     "name": "stdout",
     "output_type": "stream",
     "text": [
      "Luce\n",
      "12\n",
      "Luceis12\n"
     ]
    }
   ],
   "source": [
    "name=input()\n",
    "age=input()\n",
    "print(name + \"is\" + age)"
   ]
  },
  {
   "cell_type": "markdown",
   "metadata": {},
   "source": [
    "## In - Place Operators\n",
    "\n",
    "The operators which helps to do the operation is called in-place operator. It changes directly the content of a given variable without making a copy"
   ]
  },
  {
   "cell_type": "code",
   "execution_count": 25,
   "metadata": {},
   "outputs": [
    {
     "name": "stdout",
     "output_type": "stream",
     "text": [
      "2\n",
      "5\n"
     ]
    }
   ],
   "source": [
    "x=2\n",
    "print(x)\n",
    "x+=3\n",
    "print(x)"
   ]
  },
  {
   "cell_type": "code",
   "execution_count": 7,
   "metadata": {},
   "outputs": [
    {
     "name": "stdout",
     "output_type": "stream",
     "text": [
      "spam\n",
      "spameggs\n"
     ]
    }
   ],
   "source": [
    "x=\"spam\"\n",
    "print(x)\n",
    "x+=\"eggs\"\n",
    "print(x)"
   ]
  },
  {
   "cell_type": "code",
   "execution_count": 8,
   "metadata": {},
   "outputs": [
    {
     "name": "stdout",
     "output_type": "stream",
     "text": [
      "aaa\n"
     ]
    }
   ],
   "source": [
    "x=\"a\"\n",
    "x*=3\n",
    "print(x)"
   ]
  },
  {
   "cell_type": "markdown",
   "metadata": {},
   "source": [
    "## Booleans\n",
    "\n",
    "Boolean data type, a form of data with only two possible values (usually \"true\" and \"false\") "
   ]
  },
  {
   "cell_type": "code",
   "execution_count": 12,
   "metadata": {},
   "outputs": [
    {
     "name": "stdout",
     "output_type": "stream",
     "text": [
      "True\n",
      "False\n",
      "True\n"
     ]
    }
   ],
   "source": [
    "my_boolean = True\n",
    "print(my_boolean)\n",
    "\n",
    "print(2==3)\n",
    "\n",
    "print(\"hello\"==\"hello\")\n"
   ]
  },
  {
   "cell_type": "code",
   "execution_count": 14,
   "metadata": {},
   "outputs": [
    {
     "name": "stdout",
     "output_type": "stream",
     "text": [
      "True\n",
      "True\n",
      "False\n",
      "True\n",
      "True\n"
     ]
    }
   ],
   "source": [
    "x=7\n",
    "print(x!=8)\n",
    "print(x>5)\n",
    "print(x<2)\n",
    "print(x>=7)\n",
    "print(x<=7)"
   ]
  },
  {
   "cell_type": "markdown",
   "metadata": {},
   "source": [
    "## If statement\n",
    "\n",
    "In a Python program, the if statement is how you perform this sort of decision-making. It allows for conditional execution of a statement or group of statements based on the value of an expression.\n",
    "\n",
    "Run the following code and try to understand"
   ]
  },
  {
   "cell_type": "code",
   "execution_count": 26,
   "metadata": {},
   "outputs": [
    {
     "name": "stdout",
     "output_type": "stream",
     "text": [
      "x is greater than 5\n"
     ]
    }
   ],
   "source": [
    "x=42\n",
    "if x >5:\n",
    "    print(\"x is greater than 5\")"
   ]
  },
  {
   "cell_type": "code",
   "execution_count": 27,
   "metadata": {},
   "outputs": [
    {
     "name": "stdout",
     "output_type": "stream",
     "text": [
      "Bigger than 5\n",
      "Between 5 and 47\n"
     ]
    }
   ],
   "source": [
    "num =12\n",
    "if num > 5:\n",
    "    print(\"Bigger than 5\")\n",
    "    if num <=47:\n",
    "        print(\"Between 5 and 47\")"
   ]
  },
  {
   "cell_type": "code",
   "execution_count": 28,
   "metadata": {},
   "outputs": [
    {
     "name": "stdout",
     "output_type": "stream",
     "text": [
      "3\n",
      "7\n"
     ]
    }
   ],
   "source": [
    "num=7\n",
    "if num > 3:\n",
    "    print(\"3\")\n",
    "if num < 5:\n",
    "    print(\"5\")\n",
    "if num ==7:\n",
    "    print(\"7\")"
   ]
  },
  {
   "cell_type": "code",
   "execution_count": 29,
   "metadata": {},
   "outputs": [
    {
     "name": "stdout",
     "output_type": "stream",
     "text": [
      "3\n"
     ]
    }
   ],
   "source": [
    "num=7\n",
    "if num > 3:\n",
    "    print(\"3\")\n",
    "    if num < 5:\n",
    "        print(\"5\")\n",
    "        if num ==7:\n",
    "            print(\"7\")"
   ]
  },
  {
   "cell_type": "code",
   "execution_count": 28,
   "metadata": {},
   "outputs": [
    {
     "name": "stdout",
     "output_type": "stream",
     "text": [
      "No\n"
     ]
    }
   ],
   "source": [
    "x=4\n",
    "if x==5:\n",
    "    print(\"Yes\")\n",
    "else:\n",
    "    print(\"No\")"
   ]
  },
  {
   "cell_type": "code",
   "execution_count": 30,
   "metadata": {},
   "outputs": [
    {
     "name": "stdout",
     "output_type": "stream",
     "text": [
      "True\n",
      "False\n",
      "False\n",
      "False\n"
     ]
    }
   ],
   "source": [
    "#Boolean\n",
    "\n",
    "print(1==1 and 2==2)\n",
    "print(1==1 and 2==3)\n",
    "print(1!=1 and 2==2)\n",
    "print(2<1 and 3>2)"
   ]
  },
  {
   "cell_type": "code",
   "execution_count": 31,
   "metadata": {},
   "outputs": [
    {
     "name": "stdout",
     "output_type": "stream",
     "text": [
      "2\n"
     ]
    }
   ],
   "source": [
    "if not True:\n",
    "    print(\"1\")\n",
    "elif not (1+1 == 3):\n",
    "    print(\"2\")\n",
    "else:\n",
    "    print(\"3\")"
   ]
  },
  {
   "cell_type": "markdown",
   "metadata": {},
   "source": [
    "## Loops\n",
    "\n",
    "### While Loops\n",
    "\n",
    "With the while loop we can execute a set of statements as long as a condition is true. \n"
   ]
  },
  {
   "cell_type": "code",
   "execution_count": 32,
   "metadata": {},
   "outputs": [
    {
     "name": "stdout",
     "output_type": "stream",
     "text": [
      "1\n",
      "2\n",
      "3\n",
      "4\n",
      "5\n",
      "Finished!\n"
     ]
    }
   ],
   "source": [
    "# Exemple\n",
    "i=1\n",
    "while i<=5:\n",
    "    print(i)\n",
    "    i=i+1\n",
    "print(\"Finished!\")"
   ]
  },
  {
   "cell_type": "code",
   "execution_count": 32,
   "metadata": {},
   "outputs": [
    {
     "name": "stdout",
     "output_type": "stream",
     "text": [
      "3\n",
      "2\n",
      "1\n",
      "0\n"
     ]
    }
   ],
   "source": [
    "i=3\n",
    "while i>=0:\n",
    "    print(i)\n",
    "    i=i-1"
   ]
  },
  {
   "cell_type": "code",
   "execution_count": 33,
   "metadata": {},
   "outputs": [
    {
     "name": "stdout",
     "output_type": "stream",
     "text": [
      "1is odd\n",
      "2is even\n",
      "3is odd\n",
      "4is even\n",
      "5is odd\n",
      "6is even\n",
      "7is odd\n",
      "8is even\n",
      "9is odd\n"
     ]
    }
   ],
   "source": [
    "x=1\n",
    "while x < 10:\n",
    "    if x%2==0:\n",
    "        print(str(x) + \"is even\")\n",
    "    else:\n",
    "        print(str(x)+\"is odd\")\n",
    "    x +=1"
   ]
  },
  {
   "cell_type": "markdown",
   "metadata": {},
   "source": [
    "### Break\n",
    "\n",
    "'Break' in Python is a loop control statement. It is used to control the sequence of the loop. Suppose you want to terminate a loop and skip to the next code after the loop; break will help you do that. A typical scenario of using the Break in Python is when an external condition triggers the loop's termination."
   ]
  },
  {
   "cell_type": "code",
   "execution_count": 34,
   "metadata": {},
   "outputs": [
    {
     "name": "stdout",
     "output_type": "stream",
     "text": [
      "0\n",
      "1\n",
      "2\n",
      "3\n",
      "4\n",
      "Beaking\n",
      "finished\n"
     ]
    }
   ],
   "source": [
    "i=0\n",
    "while True:\n",
    "    print(i)\n",
    "    i=i+1\n",
    "    if i>=5:\n",
    "        print(\"Beaking\")\n",
    "        break\n",
    "print(\"finished\")"
   ]
  },
  {
   "cell_type": "code",
   "execution_count": 35,
   "metadata": {},
   "outputs": [
    {
     "name": "stdout",
     "output_type": "stream",
     "text": [
      "5\n",
      "4\n",
      "3\n"
     ]
    }
   ],
   "source": [
    "i=5\n",
    "while True:\n",
    "    print(i)\n",
    "    i=i-1\n",
    "    if i<=2:\n",
    "        break"
   ]
  },
  {
   "cell_type": "markdown",
   "metadata": {},
   "source": [
    "## continue\n",
    "\n",
    "The continue statement in Python returns the control to the beginning of the while loop. The continue statement rejects all the remaining statements in the current iteration of the loop and moves the control back to the top of the loop. The continue statement can be used in both while and for loops."
   ]
  },
  {
   "cell_type": "code",
   "execution_count": 36,
   "metadata": {},
   "outputs": [
    {
     "name": "stdout",
     "output_type": "stream",
     "text": [
      "1\n",
      "2\n",
      "Skipping 3\n",
      "3\n",
      "4\n",
      "5\n"
     ]
    }
   ],
   "source": [
    "i = 1\n",
    "while i<=5:\n",
    "    print(i)\n",
    "    i+=1\n",
    "    if i==3:\n",
    "        print(\"Skipping 3\")\n",
    "        continue"
   ]
  },
  {
   "cell_type": "markdown",
   "metadata": {},
   "source": [
    "# Data Structures\n",
    "\n",
    "## Lists\n",
    "\n",
    "we can create a list by using square brackets with commas separating items. Like this:"
   ]
  },
  {
   "cell_type": "code",
   "execution_count": 33,
   "metadata": {
    "scrolled": true
   },
   "outputs": [],
   "source": [
    "words = [\"hello\",\"world\",\"!\"]"
   ]
  },
  {
   "cell_type": "markdown",
   "metadata": {},
   "source": [
    "If you want to access a certain item in the list, you can do this by using its index in square brakets. In our example,that would look like"
   ]
  },
  {
   "cell_type": "code",
   "execution_count": 34,
   "metadata": {},
   "outputs": [
    {
     "name": "stdout",
     "output_type": "stream",
     "text": [
      "hello\n",
      "world\n",
      "!\n"
     ]
    }
   ],
   "source": [
    "print(words[0])\n",
    "print(words[1])\n",
    "print(words[2])"
   ]
  },
  {
   "cell_type": "code",
   "execution_count": 35,
   "metadata": {},
   "outputs": [
    {
     "name": "stdout",
     "output_type": "stream",
     "text": [
      "4\n"
     ]
    }
   ],
   "source": [
    "nums=[5,4,3,2,1]\n",
    "print(nums[1])"
   ]
  },
  {
   "cell_type": "markdown",
   "metadata": {},
   "source": [
    "## List of lists\n",
    "\n",
    "A list of lists is a list where each element is a list by itself."
   ]
  },
  {
   "cell_type": "code",
   "execution_count": 37,
   "metadata": {},
   "outputs": [
    {
     "name": "stdout",
     "output_type": "stream",
     "text": [
      "[1, 2, 3]\n",
      "[4, 5, 6]\n",
      "2\n",
      "6\n"
     ]
    }
   ],
   "source": [
    "m = [\n",
    "    [1,2,3],\n",
    "    [4,5,6]\n",
    "    ]\n",
    "print(m[0])\n",
    "print(m[1])\n",
    "print(m[0][1])\n",
    "print(m[1][2])"
   ]
  },
  {
   "cell_type": "markdown",
   "metadata": {},
   "source": [
    "## Strings as Lists"
   ]
  },
  {
   "cell_type": "code",
   "execution_count": 39,
   "metadata": {
    "scrolled": true
   },
   "outputs": [
    {
     "name": "stdout",
     "output_type": "stream",
     "text": [
      "W\n"
     ]
    }
   ],
   "source": [
    "str = \"Hello Word!\"\n",
    "print(str[6])"
   ]
  },
  {
   "cell_type": "markdown",
   "metadata": {},
   "source": [
    "## List Operations"
   ]
  },
  {
   "cell_type": "code",
   "execution_count": 44,
   "metadata": {},
   "outputs": [
    {
     "name": "stdout",
     "output_type": "stream",
     "text": [
      "[1, 2, 3, 4, 5, 6]\n",
      "[1, 2, 3, 1, 2, 3, 1, 2, 3]\n"
     ]
    }
   ],
   "source": [
    "nums = [1,2,3]\n",
    "print(nums +[4,5,6])\n",
    "print(nums*3)"
   ]
  },
  {
   "cell_type": "code",
   "execution_count": 45,
   "metadata": {
    "scrolled": true
   },
   "outputs": [
    {
     "name": "stdout",
     "output_type": "stream",
     "text": [
      "3\n"
     ]
    }
   ],
   "source": [
    "x=[2,4]\n",
    "x+=[6,8]\n",
    "print(x[2]//x[0])"
   ]
  },
  {
   "cell_type": "markdown",
   "metadata": {},
   "source": [
    "## For loop\n",
    "\n",
    "A for loop is used for iterating over a sequence (that is either a list, a tuple, a dictionary, a set, or a string). "
   ]
  },
  {
   "cell_type": "code",
   "execution_count": 46,
   "metadata": {
    "scrolled": true
   },
   "outputs": [
    {
     "name": "stdout",
     "output_type": "stream",
     "text": [
      "hello!\n",
      "world!\n",
      "spam!\n",
      "eggs!\n"
     ]
    }
   ],
   "source": [
    "words =[\"hello\",\"world\",\"spam\",\"eggs\"]\n",
    "for word in words:\n",
    "    print(word + \"!\")"
   ]
  },
  {
   "cell_type": "markdown",
   "metadata": {},
   "source": [
    "A for loop can be used to iterate over strings"
   ]
  },
  {
   "cell_type": "code",
   "execution_count": 40,
   "metadata": {},
   "outputs": [
    {
     "name": "stdout",
     "output_type": "stream",
     "text": [
      "2\n"
     ]
    }
   ],
   "source": [
    "str =\"testing for loops\"\n",
    "count=0\n",
    "for x in str:\n",
    "    if(x=='t'):\n",
    "        count +=1\n",
    "print(count)"
   ]
  },
  {
   "cell_type": "code",
   "execution_count": 69,
   "metadata": {},
   "outputs": [
    {
     "name": "stdout",
     "output_type": "stream",
     "text": [
      "5\n"
     ]
    }
   ],
   "source": [
    "lists = [2,3,4,5,6,7]\n",
    "for x in lists:\n",
    "    if(x%2==1 and x>4):\n",
    "        print(x)\n",
    "        break"
   ]
  },
  {
   "cell_type": "markdown",
   "metadata": {},
   "source": [
    "## For vs While\n",
    "\n",
    "So we've got the for and while loops, which can be used to execute a block of code multiple times. So which do we use and when?\n",
    " \n",
    "Usually we'd use the for loop when the number of iterations is fixed. For example, iterating over a fixed list of items in a shopping list.\n",
    "\n",
    "The while loop is useful in cases whwn the number of iterations ist'n known and depends on somme calculations and conditions in the code block of the loop\n",
    "\n",
    "For example, ending the loop when the user enters a specific input in a calculator program.\n",
    "\n",
    "While both, for and while loops can be used to achieve the same results, however, the for loop has cleaner and shorter syntax, making it a better choice in most cases."
   ]
  },
  {
   "cell_type": "markdown",
   "metadata": {},
   "source": [
    "## Range\n",
    "\n",
    "The range() function returns a sequence of numbers, starting from 0 by default, and increments by 1 (by default), and stops before a specified number."
   ]
  },
  {
   "cell_type": "code",
   "execution_count": 42,
   "metadata": {},
   "outputs": [
    {
     "name": "stdout",
     "output_type": "stream",
     "text": [
      "0\n",
      "1\n",
      "2\n",
      "3\n",
      "4\n",
      "5\n"
     ]
    }
   ],
   "source": [
    "x =range(6)\n",
    "for n in x:\n",
    "    print(n)"
   ]
  },
  {
   "cell_type": "code",
   "execution_count": 43,
   "metadata": {},
   "outputs": [
    {
     "name": "stdout",
     "output_type": "stream",
     "text": [
      "[5, 7, 9, 11, 13, 15, 17, 19]\n"
     ]
    }
   ],
   "source": [
    "numbers = list(range(5, 20, 2))\n",
    "print(numbers)"
   ]
  },
  {
   "cell_type": "markdown",
   "metadata": {},
   "source": [
    "For this example, we want a list that starts with 5 as the first element and increments by 2 each time and stops at 20"
   ]
  },
  {
   "cell_type": "markdown",
   "metadata": {},
   "source": [
    "## List Slice\n",
    "\n",
    "What are list slices in Python?\n",
    "\n",
    "In Python, list slicing is a common practice and it is the most used technique for programmers to solve efficient problems. Consider a python list, In-order to access a range of elements in a list, you need to slice a list. One way to do this is to use the simple slicing operator i.e. colon(:)"
   ]
  },
  {
   "cell_type": "code",
   "execution_count": 44,
   "metadata": {},
   "outputs": [
    {
     "name": "stdout",
     "output_type": "stream",
     "text": [
      "[4, 9, 16, 25]\n",
      "[9, 16, 25, 36, 49]\n",
      "81\n"
     ]
    }
   ],
   "source": [
    "squares =[0,1,4,9,16,25,36,49,64,81]\n",
    "print(squares[2:6]) # displays the elment by leaving from index 2 to 5\n",
    "print(squares[3:8])\n",
    "print(squares[-1]) # display the last element in the given list"
   ]
  },
  {
   "cell_type": "code",
   "execution_count": 45,
   "metadata": {},
   "outputs": [
    {
     "name": "stdout",
     "output_type": "stream",
     "text": [
      "[0, 1, 4, 9, 16, 25, 36]\n",
      "[49, 64, 81]\n"
     ]
    }
   ],
   "source": [
    "print(squares[:7]) # displays from index 0 to 6\n",
    "print(squares[7:]) # displays from index 7 up to the end of the list"
   ]
  },
  {
   "cell_type": "code",
   "execution_count": 49,
   "metadata": {
    "scrolled": true
   },
   "outputs": [
    {
     "name": "stdout",
     "output_type": "stream",
     "text": [
      "[0, 4, 16, 36, 64]\n",
      "[4, 25]\n"
     ]
    }
   ],
   "source": [
    "print(squares[::2]) # skips 1 element each time and displays the rest\n",
    "print(squares[2:8:3]) # displays from index 2 to 8 but each time makes a jump of 3 indexes"
   ]
  },
  {
   "cell_type": "code",
   "execution_count": 84,
   "metadata": {},
   "outputs": [
    {
     "name": "stdout",
     "output_type": "stream",
     "text": [
      "[1, 25, 81]\n"
     ]
    }
   ],
   "source": [
    "print(squares[1::4])"
   ]
  },
  {
   "cell_type": "code",
   "execution_count": 85,
   "metadata": {},
   "outputs": [
    {
     "name": "stdout",
     "output_type": "stream",
     "text": [
      "[1, 4, 9, 16, 25, 36, 49, 64]\n"
     ]
    }
   ],
   "source": [
    "print(squares[1:-1])# Displays all the elements in the list execpt the first and the last one"
   ]
  },
  {
   "cell_type": "code",
   "execution_count": 50,
   "metadata": {},
   "outputs": [
    {
     "name": "stdout",
     "output_type": "stream",
     "text": [
      "[49, 36]\n"
     ]
    }
   ],
   "source": [
    "print(squares[7:5:-1]) # Start at index 7 stop index 5 and step of -1"
   ]
  },
  {
   "cell_type": "markdown",
   "metadata": {},
   "source": [
    "## Functions\n",
    "\n",
    "A function is a block of code which only runs when it is called. You can pass data, known as parameters, into a function.\n",
    "\n",
    "### List function"
   ]
  },
  {
   "cell_type": "code",
   "execution_count": 51,
   "metadata": {},
   "outputs": [
    {
     "name": "stdout",
     "output_type": "stream",
     "text": [
      "5\n"
     ]
    }
   ],
   "source": [
    "nums = [1,3,5,2,4]\n",
    "print(len(nums))"
   ]
  },
  {
   "cell_type": "code",
   "execution_count": 52,
   "metadata": {},
   "outputs": [
    {
     "name": "stdout",
     "output_type": "stream",
     "text": [
      "4\n"
     ]
    }
   ],
   "source": [
    "letters = [\"a\",\"b\",\"c\"]\n",
    "letters +=[\"d\"]\n",
    "print(len(letters))"
   ]
  },
  {
   "cell_type": "code",
   "execution_count": 90,
   "metadata": {},
   "outputs": [
    {
     "name": "stdout",
     "output_type": "stream",
     "text": [
      "[1, 2, 3, 4]\n"
     ]
    }
   ],
   "source": [
    "nums = [1,2,3]\n",
    "nums.append(4)\n",
    "print(nums)"
   ]
  },
  {
   "cell_type": "code",
   "execution_count": 91,
   "metadata": {},
   "outputs": [
    {
     "name": "stdout",
     "output_type": "stream",
     "text": [
      "['Python', 'is', 'func']\n"
     ]
    }
   ],
   "source": [
    "words = [\"Python\",\"fun\"]\n",
    "index =1\n",
    "words.insert(index,\"is\")\n",
    "print(words)"
   ]
  },
  {
   "cell_type": "code",
   "execution_count": 98,
   "metadata": {},
   "outputs": [
    {
     "name": "stdout",
     "output_type": "stream",
     "text": [
      "2\n",
      "0\n",
      "3\n"
     ]
    }
   ],
   "source": [
    "letters = ['p','q','r','s','p','u']\n",
    "print(letters.index('r'))\n",
    "print(letters.index('p'))\n",
    "print(letters.index('s'))"
   ]
  },
  {
   "cell_type": "markdown",
   "metadata": {},
   "source": [
    "### String Formatting\n",
    "\n",
    "The format() method formats the specified value(s) and insert them inside the string's placeholder. The placeholder is defined using curly brackets: {}."
   ]
  },
  {
   "cell_type": "code",
   "execution_count": 54,
   "metadata": {},
   "outputs": [
    {
     "name": "stdout",
     "output_type": "stream",
     "text": [
      "Numbers: 4 5 6\n"
     ]
    }
   ],
   "source": [
    "nums = [4,5,6]\n",
    "msg = \"Numbers: {0} {1} {2}\".format(nums[0], nums[1], nums[2])\n",
    "print(msg)"
   ]
  },
  {
   "cell_type": "code",
   "execution_count": 55,
   "metadata": {},
   "outputs": [
    {
     "name": "stdout",
     "output_type": "stream",
     "text": [
      "abracadabra\n"
     ]
    }
   ],
   "source": [
    "print(\"{0}{1}{0}\".format(\"abra\",\"cad\"))"
   ]
  },
  {
   "cell_type": "code",
   "execution_count": 56,
   "metadata": {},
   "outputs": [
    {
     "name": "stdout",
     "output_type": "stream",
     "text": [
      "5,12\n"
     ]
    }
   ],
   "source": [
    "a = \"{x},{y}\".format(x=5, y=12)\n",
    "print(a)"
   ]
  },
  {
   "cell_type": "markdown",
   "metadata": {},
   "source": [
    "# String Functions\n"
   ]
  },
  {
   "cell_type": "code",
   "execution_count": 104,
   "metadata": {},
   "outputs": [
    {
     "name": "stdout",
     "output_type": "stream",
     "text": [
      "spam,eggs,ham\n"
     ]
    }
   ],
   "source": [
    "print(\",\".join([\"spam\",\"eggs\",\"ham\"]))"
   ]
  },
  {
   "cell_type": "code",
   "execution_count": 105,
   "metadata": {},
   "outputs": [
    {
     "name": "stdout",
     "output_type": "stream",
     "text": [
      "Hello world\n"
     ]
    }
   ],
   "source": [
    "print(\"Hello ME\".replace(\"ME\",\"world\"))"
   ]
  },
  {
   "cell_type": "code",
   "execution_count": 109,
   "metadata": {},
   "outputs": [
    {
     "name": "stdout",
     "output_type": "stream",
     "text": [
      "True\n",
      "False\n"
     ]
    }
   ],
   "source": [
    "print(\"This is a sentence.\".startswith(\"This\"))\n",
    "print(\"This is a sentence.\".endswith(\"This\"))"
   ]
  },
  {
   "cell_type": "code",
   "execution_count": 110,
   "metadata": {},
   "outputs": [
    {
     "name": "stdout",
     "output_type": "stream",
     "text": [
      "THIS IS A SENTENCE.\n"
     ]
    }
   ],
   "source": [
    "print(\"This is a sentence.\".upper())"
   ]
  },
  {
   "cell_type": "code",
   "execution_count": 111,
   "metadata": {},
   "outputs": [
    {
     "name": "stdout",
     "output_type": "stream",
     "text": [
      "an all caps sentence.\n"
     ]
    }
   ],
   "source": [
    "print(\"AN ALL CAPS SENTENCE.\".lower())"
   ]
  },
  {
   "cell_type": "code",
   "execution_count": 112,
   "metadata": {},
   "outputs": [
    {
     "name": "stdout",
     "output_type": "stream",
     "text": [
      "['spam', 'eggs', 'ham']\n"
     ]
    }
   ],
   "source": [
    "print(\"spam,eggs,ham\".split(\",\"))"
   ]
  },
  {
   "cell_type": "markdown",
   "metadata": {},
   "source": [
    "## MAKING YOUR OWN FUNCTIONS"
   ]
  },
  {
   "cell_type": "code",
   "execution_count": 59,
   "metadata": {},
   "outputs": [
    {
     "name": "stdout",
     "output_type": "stream",
     "text": [
      "spam\n",
      "spam\n",
      "spam\n"
     ]
    }
   ],
   "source": [
    "def my_func(): # we define our own function here, the name of the function is my_func\n",
    "    print(\"spam\")\n",
    "    print(\"spam\")\n",
    "    print(\"spam\")\n",
    "my_func() # We call our function here"
   ]
  },
  {
   "cell_type": "code",
   "execution_count": 117,
   "metadata": {
    "scrolled": true
   },
   "outputs": [
    {
     "name": "stdout",
     "output_type": "stream",
     "text": [
      "Hello world!\n",
      "Hello world!\n"
     ]
    }
   ],
   "source": [
    "def hello():\n",
    "    print(\"Hello world!\")\n",
    "hello()\n",
    "hello()"
   ]
  },
  {
   "cell_type": "markdown",
   "metadata": {},
   "source": [
    "### ARGUMENTS OF A FUNCTIONS\n",
    "\n",
    "The terms parameter and argument can be used for the same thing: information that are passed into a function. From a function's perspective: A parameter is the variable listed inside the parentheses in the function definition. An argument is the value that are sent to the function when it is called."
   ]
  },
  {
   "cell_type": "code",
   "execution_count": 60,
   "metadata": {},
   "outputs": [
    {
     "name": "stdout",
     "output_type": "stream",
     "text": [
      "spam!\n"
     ]
    }
   ],
   "source": [
    "def print_with_exclamation(word): # We define our function print_with_exclamation and we passe it a argument word\n",
    "    print(word + \"!\")\n",
    "print_with_exclamation(\"spam\")"
   ]
  },
  {
   "cell_type": "code",
   "execution_count": 61,
   "metadata": {},
   "outputs": [
    {
     "name": "stdout",
     "output_type": "stream",
     "text": [
      "6\n"
     ]
    }
   ],
   "source": [
    "def print_double(x):\n",
    "    print(2*x)\n",
    "print_double(3)"
   ]
  },
  {
   "cell_type": "code",
   "execution_count": 62,
   "metadata": {},
   "outputs": [
    {
     "name": "stdout",
     "output_type": "stream",
     "text": [
      "13\n",
      "13\n"
     ]
    }
   ],
   "source": [
    "def print_sum_twice(x,y): # Here we passe two argument x and y to our function print_sum_twice\n",
    "    print(x + y)\n",
    "    print(x + y)\n",
    "print_sum_twice(5,8)"
   ]
  },
  {
   "cell_type": "code",
   "execution_count": 123,
   "metadata": {},
   "outputs": [
    {
     "name": "stdout",
     "output_type": "stream",
     "text": [
      "7\n",
      "8\n"
     ]
    }
   ],
   "source": [
    "def max(x, y):\n",
    "    if x>=y:\n",
    "        return x\n",
    "    else:\n",
    "        return y\n",
    "print(max(4,7))\n",
    "z = max(8,5)\n",
    "print(z)"
   ]
  },
  {
   "cell_type": "markdown",
   "metadata": {},
   "source": [
    "### Returning from Functions"
   ]
  },
  {
   "cell_type": "code",
   "execution_count": 64,
   "metadata": {},
   "outputs": [
    {
     "name": "stdout",
     "output_type": "stream",
     "text": [
      "9\n"
     ]
    }
   ],
   "source": [
    "def add_numbers(x, y):\n",
    "    total = x + y\n",
    "    return total      # return our function here\n",
    "    print(\"This won't be printed\")\n",
    "print(add_numbers(4, 5)) # We call it"
   ]
  }
 ],
 "metadata": {
  "kernelspec": {
   "display_name": "Python 3",
   "language": "python",
   "name": "python3"
  },
  "language_info": {
   "codemirror_mode": {
    "name": "ipython",
    "version": 3
   },
   "file_extension": ".py",
   "mimetype": "text/x-python",
   "name": "python",
   "nbconvert_exporter": "python",
   "pygments_lexer": "ipython3",
   "version": "3.8.8"
  }
 },
 "nbformat": 4,
 "nbformat_minor": 4
}
